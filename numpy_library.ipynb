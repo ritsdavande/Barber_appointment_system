{
  "nbformat": 4,
  "nbformat_minor": 0,
  "metadata": {
    "colab": {
      "provenance": [],
      "authorship_tag": "ABX9TyMpNl1oDdWWr0rjZCHa9JDs",
      "include_colab_link": true
    },
    "kernelspec": {
      "name": "python3",
      "display_name": "Python 3"
    },
    "language_info": {
      "name": "python"
    }
  },
  "cells": [
    {
      "cell_type": "markdown",
      "metadata": {
        "id": "view-in-github",
        "colab_type": "text"
      },
      "source": [
        "<a href=\"https://colab.research.google.com/github/ritsdavande/Barber_appointment_system/blob/main/numpy_library.ipynb\" target=\"_parent\"><img src=\"https://colab.research.google.com/assets/colab-badge.svg\" alt=\"Open In Colab\"/></a>"
      ]
    },
    {
      "cell_type": "code",
      "execution_count": 255,
      "metadata": {
        "id": "uH8b3r7ss9-Z"
      },
      "outputs": [],
      "source": [
        "import numpy as np"
      ]
    },
    {
      "cell_type": "markdown",
      "source": [
        "array=[1,2,3,4]\n",
        "np.array"
      ],
      "metadata": {
        "id": "j57fhVF3tApv"
      }
    },
    {
      "cell_type": "code",
      "source": [
        "array = [1, 2, 3, 4]\n",
        "print(np.array(array))"
      ],
      "metadata": {
        "colab": {
          "base_uri": "https://localhost:8080/"
        },
        "id": "nac0h5RntIOo",
        "outputId": "331e9a70-5482-4f13-bb8e-819c51749ff0"
      },
      "execution_count": 256,
      "outputs": [
        {
          "output_type": "stream",
          "name": "stdout",
          "text": [
            "[1 2 3 4]\n"
          ]
        }
      ]
    },
    {
      "cell_type": "code",
      "source": [
        "np.array(([1,2,3],[3,4,5]))"
      ],
      "metadata": {
        "colab": {
          "base_uri": "https://localhost:8080/"
        },
        "id": "tfuYlrAQtnCs",
        "outputId": "033641b6-a171-4a5e-df67-e9bfbf00abfb"
      },
      "execution_count": 257,
      "outputs": [
        {
          "output_type": "execute_result",
          "data": {
            "text/plain": [
              "array([[1, 2, 3],\n",
              "       [3, 4, 5]])"
            ]
          },
          "metadata": {},
          "execution_count": 257
        }
      ]
    },
    {
      "cell_type": "code",
      "source": [
        "arr_5d = np.array([[[[[[1, 2], [3, 4],[5,6],[7,8]]]]],\n",
        "                  [[[[[1, 2], [3, 4],[5,6],[7,8]]]]]])\n",
        "print(arr_5d)\n",
        "print(type(arr_5d))\n",
        "print(arr_5d.shape)"
      ],
      "metadata": {
        "colab": {
          "base_uri": "https://localhost:8080/"
        },
        "id": "Zk3th7bcusI0",
        "outputId": "6ba6927b-6bf2-4899-a03e-38662433c5be"
      },
      "execution_count": 258,
      "outputs": [
        {
          "output_type": "stream",
          "name": "stdout",
          "text": [
            "[[[[[[1 2]\n",
            "     [3 4]\n",
            "     [5 6]\n",
            "     [7 8]]]]]\n",
            "\n",
            "\n",
            "\n",
            "\n",
            " [[[[[1 2]\n",
            "     [3 4]\n",
            "     [5 6]\n",
            "     [7 8]]]]]]\n",
            "<class 'numpy.ndarray'>\n",
            "(2, 1, 1, 1, 4, 2)\n"
          ]
        }
      ]
    },
    {
      "cell_type": "code",
      "source": [
        "a=np.array([[[1,2],[3,4],[5,6]]])\n",
        "print(a.ndim)\n",
        "print(type(a))\n",
        "print(a.shape)\n",
        "a"
      ],
      "metadata": {
        "colab": {
          "base_uri": "https://localhost:8080/"
        },
        "id": "kYGuI-hZvv2u",
        "outputId": "873f837b-7d29-43b8-852a-0fa89603f735"
      },
      "execution_count": 259,
      "outputs": [
        {
          "output_type": "stream",
          "name": "stdout",
          "text": [
            "3\n",
            "<class 'numpy.ndarray'>\n",
            "(1, 3, 2)\n"
          ]
        },
        {
          "output_type": "execute_result",
          "data": {
            "text/plain": [
              "array([[[1, 2],\n",
              "        [3, 4],\n",
              "        [5, 6]]])"
            ]
          },
          "metadata": {},
          "execution_count": 259
        }
      ]
    },
    {
      "cell_type": "code",
      "source": [
        "arr=np.zeros((5))\n",
        "print(arr)\n",
        "a=np.zeros((4,3,2))\n",
        "a\n",
        "b=np.random.randint((4))\n",
        "print(b)"
      ],
      "metadata": {
        "colab": {
          "base_uri": "https://localhost:8080/"
        },
        "id": "mg6jxJn1wOUq",
        "outputId": "e8c40b1d-7a06-48f9-a786-4e83f52f4609"
      },
      "execution_count": 260,
      "outputs": [
        {
          "output_type": "stream",
          "name": "stdout",
          "text": [
            "[0. 0. 0. 0. 0.]\n",
            "0\n"
          ]
        }
      ]
    },
    {
      "cell_type": "code",
      "source": [
        "b=np.random.rand(2,3)\n",
        "print(b)"
      ],
      "metadata": {
        "colab": {
          "base_uri": "https://localhost:8080/"
        },
        "id": "VxFlJv-7xlze",
        "outputId": "c773ec2c-6823-4ae2-bf14-dc6824e6827b"
      },
      "execution_count": 261,
      "outputs": [
        {
          "output_type": "stream",
          "name": "stdout",
          "text": [
            "[[0.12368242 0.75869342 0.40253276]\n",
            " [0.71089091 0.82105494 0.82675039]]\n"
          ]
        }
      ]
    },
    {
      "cell_type": "code",
      "source": [
        "arr=np.ones((2,1,2,3))\n",
        "print(arr)\n",
        "arr.ndim"
      ],
      "metadata": {
        "colab": {
          "base_uri": "https://localhost:8080/"
        },
        "id": "8BAOQqYsy7sI",
        "outputId": "47485258-4e1c-4aa4-d6e4-0170d6b2251d"
      },
      "execution_count": 262,
      "outputs": [
        {
          "output_type": "stream",
          "name": "stdout",
          "text": [
            "[[[[1. 1. 1.]\n",
            "   [1. 1. 1.]]]\n",
            "\n",
            "\n",
            " [[[1. 1. 1.]\n",
            "   [1. 1. 1.]]]]\n"
          ]
        },
        {
          "output_type": "execute_result",
          "data": {
            "text/plain": [
              "4"
            ]
          },
          "metadata": {},
          "execution_count": 262
        }
      ]
    },
    {
      "cell_type": "code",
      "source": [
        "a=np.zeros((0,0))\n",
        "print(a.ndim)\n",
        "a"
      ],
      "metadata": {
        "colab": {
          "base_uri": "https://localhost:8080/"
        },
        "id": "_qC3Nr2EzwN0",
        "outputId": "d14ab8a9-cd4a-42af-e513-7c6516972aa0"
      },
      "execution_count": 263,
      "outputs": [
        {
          "output_type": "stream",
          "name": "stdout",
          "text": [
            "2\n"
          ]
        },
        {
          "output_type": "execute_result",
          "data": {
            "text/plain": [
              "array([], shape=(0, 0), dtype=float64)"
            ]
          },
          "metadata": {},
          "execution_count": 263
        }
      ]
    },
    {
      "cell_type": "code",
      "source": [
        "a=np.full((7,7),7)\n",
        "a"
      ],
      "metadata": {
        "colab": {
          "base_uri": "https://localhost:8080/"
        },
        "id": "D1RlyOqd0W6_",
        "outputId": "f229ab6e-0de9-42cc-fdae-e1927e17556e"
      },
      "execution_count": 264,
      "outputs": [
        {
          "output_type": "execute_result",
          "data": {
            "text/plain": [
              "array([[7, 7, 7, 7, 7, 7, 7],\n",
              "       [7, 7, 7, 7, 7, 7, 7],\n",
              "       [7, 7, 7, 7, 7, 7, 7],\n",
              "       [7, 7, 7, 7, 7, 7, 7],\n",
              "       [7, 7, 7, 7, 7, 7, 7],\n",
              "       [7, 7, 7, 7, 7, 7, 7],\n",
              "       [7, 7, 7, 7, 7, 7, 7]])"
            ]
          },
          "metadata": {},
          "execution_count": 264
        }
      ]
    },
    {
      "cell_type": "code",
      "source": [
        "arr=np.eye(2)\n",
        "arr"
      ],
      "metadata": {
        "colab": {
          "base_uri": "https://localhost:8080/"
        },
        "id": "OA6l4vv81o5k",
        "outputId": "aafc549b-d4f5-4a91-f9e0-403531595c2c"
      },
      "execution_count": 265,
      "outputs": [
        {
          "output_type": "execute_result",
          "data": {
            "text/plain": [
              "array([[1., 0.],\n",
              "       [0., 1.]])"
            ]
          },
          "metadata": {},
          "execution_count": 265
        }
      ]
    },
    {
      "cell_type": "code",
      "source": [
        "a=np.square(2)\n",
        "a"
      ],
      "metadata": {
        "colab": {
          "base_uri": "https://localhost:8080/"
        },
        "id": "U-IDDCIC2qXa",
        "outputId": "f32459cb-64cc-4f77-c703-f3e9b3611218"
      },
      "execution_count": 266,
      "outputs": [
        {
          "output_type": "execute_result",
          "data": {
            "text/plain": [
              "np.int64(4)"
            ]
          },
          "metadata": {},
          "execution_count": 266
        }
      ]
    },
    {
      "cell_type": "code",
      "source": [
        "a=[1,2,5]\n",
        "a=np.square(a)\n",
        "a"
      ],
      "metadata": {
        "colab": {
          "base_uri": "https://localhost:8080/"
        },
        "id": "RBhiDHdH22Jf",
        "outputId": "94f03621-48f6-4189-c7f3-686736868714"
      },
      "execution_count": 267,
      "outputs": [
        {
          "output_type": "execute_result",
          "data": {
            "text/plain": [
              "array([ 1,  4, 25])"
            ]
          },
          "metadata": {},
          "execution_count": 267
        }
      ]
    },
    {
      "cell_type": "code",
      "source": [
        "x=10\n",
        "x"
      ],
      "metadata": {
        "colab": {
          "base_uri": "https://localhost:8080/"
        },
        "id": "RUrqQYpM3Fp9",
        "outputId": "50cdb770-9c1e-4d33-b44a-455fd9a5b11d"
      },
      "execution_count": 268,
      "outputs": [
        {
          "output_type": "execute_result",
          "data": {
            "text/plain": [
              "10"
            ]
          },
          "metadata": {},
          "execution_count": 268
        }
      ]
    },
    {
      "cell_type": "code",
      "source": [
        "a=np.random.random((1,1,1,1))\n",
        "a"
      ],
      "metadata": {
        "colab": {
          "base_uri": "https://localhost:8080/"
        },
        "id": "rPNwhox73So7",
        "outputId": "b269702a-de1e-4b6e-81ff-f4933ff334ad"
      },
      "execution_count": 269,
      "outputs": [
        {
          "output_type": "execute_result",
          "data": {
            "text/plain": [
              "array([[[[0.32250437]]]])"
            ]
          },
          "metadata": {},
          "execution_count": 269
        }
      ]
    },
    {
      "cell_type": "code",
      "source": [
        "a=np.empty([2,2],dtype='int64')\n",
        "a"
      ],
      "metadata": {
        "colab": {
          "base_uri": "https://localhost:8080/"
        },
        "id": "wcaRxpiE4I87",
        "outputId": "d5611a0b-6787-45d8-8688-2e13de211479"
      },
      "execution_count": 270,
      "outputs": [
        {
          "output_type": "execute_result",
          "data": {
            "text/plain": [
              "array([[4607182418800017408,                   0],\n",
              "       [                  0, 4607182418800017408]])"
            ]
          },
          "metadata": {},
          "execution_count": 270
        }
      ]
    },
    {
      "cell_type": "code",
      "source": [
        "a=np.empty_like([2,3])\n",
        "print(type(a))\n",
        "print(a)"
      ],
      "metadata": {
        "colab": {
          "base_uri": "https://localhost:8080/"
        },
        "id": "6QTYTsdF4zMz",
        "outputId": "e08bcc0d-f659-4725-84fe-6d00f9c57abe"
      },
      "execution_count": 271,
      "outputs": [
        {
          "output_type": "stream",
          "name": "stdout",
          "text": [
            "<class 'numpy.ndarray'>\n",
            "[4607182418800017408 4607182418800017408]\n"
          ]
        }
      ]
    },
    {
      "cell_type": "code",
      "source": [
        "a=np.empty([2,3])\n",
        "print(type(a))\n",
        "print(a)"
      ],
      "metadata": {
        "colab": {
          "base_uri": "https://localhost:8080/"
        },
        "id": "Iv9drSMU6jb3",
        "outputId": "eb6a5856-ef37-4809-9c0a-5ab1c6ae5890"
      },
      "execution_count": 272,
      "outputs": [
        {
          "output_type": "stream",
          "name": "stdout",
          "text": [
            "<class 'numpy.ndarray'>\n",
            "[[0.21070741 0.49194788 0.0916866 ]\n",
            " [0.83596071 0.9865562  0.64524881]]\n"
          ]
        }
      ]
    },
    {
      "cell_type": "code",
      "source": [
        "a=np.arange(10)\n",
        "a"
      ],
      "metadata": {
        "colab": {
          "base_uri": "https://localhost:8080/"
        },
        "id": "8JDWByxN8HZB",
        "outputId": "9f4291b0-be71-4eb3-bf04-a024053d5847"
      },
      "execution_count": 273,
      "outputs": [
        {
          "output_type": "execute_result",
          "data": {
            "text/plain": [
              "array([0, 1, 2, 3, 4, 5, 6, 7, 8, 9])"
            ]
          },
          "metadata": {},
          "execution_count": 273
        }
      ]
    },
    {
      "cell_type": "code",
      "source": [
        "a=np.arange(4,10,2)\n",
        "a"
      ],
      "metadata": {
        "colab": {
          "base_uri": "https://localhost:8080/"
        },
        "id": "2UlqMSty8uXA",
        "outputId": "1dc5972b-d495-45d8-9a4b-ac66755c56c1"
      },
      "execution_count": 275,
      "outputs": [
        {
          "output_type": "execute_result",
          "data": {
            "text/plain": [
              "array([4, 6, 8])"
            ]
          },
          "metadata": {},
          "execution_count": 275
        }
      ]
    },
    {
      "cell_type": "code",
      "source": [
        "a=np.linspace(0,10,num=10)\n",
        "a"
      ],
      "metadata": {
        "colab": {
          "base_uri": "https://localhost:8080/"
        },
        "id": "CSsaQud284YQ",
        "outputId": "7758b9e6-21ad-4a4c-a29d-dc74dd6db41f"
      },
      "execution_count": 277,
      "outputs": [
        {
          "output_type": "execute_result",
          "data": {
            "text/plain": [
              "array([ 0.        ,  1.11111111,  2.22222222,  3.33333333,  4.44444444,\n",
              "        5.55555556,  6.66666667,  7.77777778,  8.88888889, 10.        ])"
            ]
          },
          "metadata": {},
          "execution_count": 277
        }
      ]
    },
    {
      "cell_type": "code",
      "source": [
        "arr=np.array([[[3,4,5],[2,8,7]],[[5,8,7],[5,4,9]]])\n",
        "print(arr[0])\n",
        "print(arr[0,1])"
      ],
      "metadata": {
        "colab": {
          "base_uri": "https://localhost:8080/"
        },
        "id": "Zw-A6_Ag-Rto",
        "outputId": "35ebca50-3a49-49d3-9cbd-c66974d38550"
      },
      "execution_count": 278,
      "outputs": [
        {
          "output_type": "stream",
          "name": "stdout",
          "text": [
            "[[3 4 5]\n",
            " [2 8 7]]\n",
            "[2 8 7]\n"
          ]
        }
      ]
    },
    {
      "cell_type": "code",
      "source": [
        "arr=np.array([[3,4,5],[2,8,7],[5,8,7],[5,4,9]])\n",
        "b=np.array((0,2,0,1))\n",
        "arr[np.arange(4),b]+=10 #[0,1,2,3]\n",
        "print(arr)"
      ],
      "metadata": {
        "colab": {
          "base_uri": "https://localhost:8080/"
        },
        "id": "ShW_b3dDJHCo",
        "outputId": "e2794fcd-a17f-4344-90a1-820237dc6013"
      },
      "execution_count": 284,
      "outputs": [
        {
          "output_type": "stream",
          "name": "stdout",
          "text": [
            "[[13  4  5]\n",
            " [ 2  8 17]\n",
            " [15  8  7]\n",
            " [ 5 14  9]]\n"
          ]
        }
      ]
    },
    {
      "cell_type": "code",
      "source": [
        "a=np.array([[1,2,3],[13,4,5]])\n",
        "b=np.nonzero(a>5)\n",
        "print(b)#return array where finding indices where elements are less thann 5"
      ],
      "metadata": {
        "colab": {
          "base_uri": "https://localhost:8080/"
        },
        "id": "HBom-Ed6J4WX",
        "outputId": "c552012c-f89b-489f-a1eb-4516b8fa3840"
      },
      "execution_count": 286,
      "outputs": [
        {
          "output_type": "stream",
          "name": "stdout",
          "text": [
            "(array([1]), array([0]))\n"
          ]
        }
      ]
    },
    {
      "cell_type": "code",
      "source": [
        "a=np.array([[[3,4],[5,6]]])\n",
        "a[0,0]=10\n",
        "a"
      ],
      "metadata": {
        "colab": {
          "base_uri": "https://localhost:8080/"
        },
        "id": "aBdCEUFlL_kq",
        "outputId": "c575f9e5-4d29-4c82-c661-ba6dc5b7aeae"
      },
      "execution_count": 289,
      "outputs": [
        {
          "output_type": "execute_result",
          "data": {
            "text/plain": [
              "array([[[10, 10],\n",
              "        [ 5,  6]]])"
            ]
          },
          "metadata": {},
          "execution_count": 289
        }
      ]
    },
    {
      "cell_type": "code",
      "source": [
        "#Broadcasting\n",
        "a=np.array([[[2,3],[4,5]]])#shape (1,2,2)\n",
        "b=np.array([[[6,7],[8,9]]])#shape (2,2)\n",
        "print(a+b)\n",
        "print(np.add(a,b))"
      ],
      "metadata": {
        "colab": {
          "base_uri": "https://localhost:8080/"
        },
        "id": "6IE3OK2jN1vN",
        "outputId": "413c3018-e5e7-4034-9069-ad98e067ffb4"
      },
      "execution_count": 290,
      "outputs": [
        {
          "output_type": "stream",
          "name": "stdout",
          "text": [
            "[[[ 8 10]\n",
            "  [12 14]]]\n",
            "[[[ 8 10]\n",
            "  [12 14]]]\n"
          ]
        }
      ]
    },
    {
      "cell_type": "code",
      "source": [
        "#Scalar Broadcasting\n",
        "data=np.array([1.0,2.0])\n",
        "print(data*1.6)"
      ],
      "metadata": {
        "colab": {
          "base_uri": "https://localhost:8080/"
        },
        "id": "Ifgru_0IOeKM",
        "outputId": "efcd0ee0-9d32-4f78-d967-99ee58d043f1"
      },
      "execution_count": 291,
      "outputs": [
        {
          "output_type": "stream",
          "name": "stdout",
          "text": [
            "[1.6 3.2]\n"
          ]
        }
      ]
    },
    {
      "cell_type": "code",
      "source": [
        "#Sqrt\n",
        "a=np.sqrt([[2,3]])\n",
        "print(a)"
      ],
      "metadata": {
        "colab": {
          "base_uri": "https://localhost:8080/"
        },
        "id": "T6-FSyddPlNR",
        "outputId": "0808f5af-25a6-4bf2-9cdc-06f31d5c3b02"
      },
      "execution_count": 292,
      "outputs": [
        {
          "output_type": "stream",
          "name": "stdout",
          "text": [
            "[[1.41421356 1.73205081]]\n"
          ]
        }
      ]
    },
    {
      "cell_type": "code",
      "source": [
        "a=np.array([[2,3],[4,5]])\n",
        "b=a.flatten()\n",
        "b"
      ],
      "metadata": {
        "colab": {
          "base_uri": "https://localhost:8080/"
        },
        "id": "9jqgN29xP5Xd",
        "outputId": "09529328-1641-4cf4-e19c-c33b4ecb5f26"
      },
      "execution_count": 293,
      "outputs": [
        {
          "output_type": "execute_result",
          "data": {
            "text/plain": [
              "array([2, 3, 4, 5])"
            ]
          },
          "metadata": {},
          "execution_count": 293
        }
      ]
    },
    {
      "cell_type": "code",
      "source": [
        "a=np.array([[2,3],[4,5]])\n",
        "b=np.array([[12,13],[45,55]])\n",
        "c=np.concatenate((a,b),axis=1)\n",
        "c"
      ],
      "metadata": {
        "colab": {
          "base_uri": "https://localhost:8080/"
        },
        "id": "u9lLq3GmRZJQ",
        "outputId": "f89f8fbc-ce5b-40a9-c401-7540c2678d93"
      },
      "execution_count": 294,
      "outputs": [
        {
          "output_type": "execute_result",
          "data": {
            "text/plain": [
              "array([[ 2,  3, 12, 13],\n",
              "       [ 4,  5, 45, 55]])"
            ]
          },
          "metadata": {},
          "execution_count": 294
        }
      ]
    },
    {
      "cell_type": "code",
      "source": [
        "a=np.array([1,2,3,5],dtype='i')\n",
        "a"
      ],
      "metadata": {
        "colab": {
          "base_uri": "https://localhost:8080/"
        },
        "id": "XIaSohezSH9U",
        "outputId": "c3fae474-e8bf-40ab-9436-ac51866581ba"
      },
      "execution_count": 296,
      "outputs": [
        {
          "output_type": "execute_result",
          "data": {
            "text/plain": [
              "array([1, 2, 3, 5], dtype=int32)"
            ]
          },
          "metadata": {},
          "execution_count": 296
        }
      ]
    },
    {
      "cell_type": "code",
      "source": [
        "a=np.array([1,2,5,3,5])\n",
        "print(np.unique(a))"
      ],
      "metadata": {
        "colab": {
          "base_uri": "https://localhost:8080/"
        },
        "id": "WptUInaaTc3J",
        "outputId": "ce8bf0ea-f94e-42c7-b887-02be86e35e93"
      },
      "execution_count": 298,
      "outputs": [
        {
          "output_type": "stream",
          "name": "stdout",
          "text": [
            "[1 2 3 5]\n"
          ]
        }
      ]
    },
    {
      "cell_type": "code",
      "source": [],
      "metadata": {
        "id": "uTsyR7tJUJLe"
      },
      "execution_count": null,
      "outputs": []
    }
  ]
}